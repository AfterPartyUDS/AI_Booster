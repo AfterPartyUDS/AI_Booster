{
 "cells": [
  {
   "cell_type": "markdown",
   "metadata": {},
   "source": [
    "# Input"
   ]
  },
  {
   "cell_type": "code",
   "execution_count": 4,
   "metadata": {},
   "outputs": [],
   "source": [
    "import pandas as pd\n",
    "import numpy as np\n",
    "import pandas_profiling as pp\n",
    "import warnings\n",
    "warnings.filterwarnings('ignore')\n",
    "import xgboost\n",
    "import lightgbm as lgm\n",
    "import catboost"
   ]
  },
  {
   "cell_type": "code",
   "execution_count": 5,
   "metadata": {},
   "outputs": [],
   "source": [
    "train = pd.read_csv('train.csv' , parse_dates= ['date_created', 'user_date_created'] )\n",
    "test = pd.read_csv('test.csv' ,parse_dates= ['date_created', 'user_date_created'] )"
   ]
  },
  {
   "cell_type": "markdown",
   "metadata": {},
   "source": [
    "# Pre"
   ]
  },
  {
   "cell_type": "code",
   "execution_count": 6,
   "metadata": {},
   "outputs": [],
   "source": [
    "test.drop(columns = 'month_created' , inplace = True)\n",
    "train = train[list(test.columns) + ['is_fake']]\n",
    "train['user_agent'] = train['user_agent'].fillna('no_info')"
   ]
  },
  {
   "cell_type": "code",
   "execution_count": 8,
   "metadata": {},
   "outputs": [],
   "source": [
    "startTime_user = train['user_date_created'].min()\n",
    "y = train['is_fake'].astype(int)"
   ]
  },
  {
   "cell_type": "code",
   "execution_count": 9,
   "metadata": {},
   "outputs": [],
   "source": [
    "from sklearn.model_selection import StratifiedKFold , cross_val_score , GridSearchCV\n",
    "skf = StratifiedKFold(n_splits = 5, shuffle=True, random_state=42 )"
   ]
  },
  {
   "cell_type": "code",
   "execution_count": 6,
   "metadata": {},
   "outputs": [
    {
     "data": {
      "text/html": [
       "<div>\n",
       "<style scoped>\n",
       "    .dataframe tbody tr th:only-of-type {\n",
       "        vertical-align: middle;\n",
       "    }\n",
       "\n",
       "    .dataframe tbody tr th {\n",
       "        vertical-align: top;\n",
       "    }\n",
       "\n",
       "    .dataframe thead th {\n",
       "        text-align: right;\n",
       "    }\n",
       "</style>\n",
       "<table border=\"1\" class=\"dataframe\">\n",
       "  <thead>\n",
       "    <tr style=\"text-align: right;\">\n",
       "      <th></th>\n",
       "      <th>comment</th>\n",
       "      <th>comment_id</th>\n",
       "      <th>company_id</th>\n",
       "      <th>date_created</th>\n",
       "      <th>product_id</th>\n",
       "      <th>rating</th>\n",
       "      <th>user_agent</th>\n",
       "      <th>user_date_created</th>\n",
       "      <th>user_id</th>\n",
       "      <th>user_ip</th>\n",
       "      <th>is_fake</th>\n",
       "    </tr>\n",
       "  </thead>\n",
       "  <tbody>\n",
       "    <tr>\n",
       "      <th>0</th>\n",
       "      <td>компания не выполнила заказ без  обьяснения пр...</td>\n",
       "      <td>1</td>\n",
       "      <td>2169053</td>\n",
       "      <td>2014-10-23 20:26:44</td>\n",
       "      <td>6.0</td>\n",
       "      <td>1</td>\n",
       "      <td>Mozilla/5.0 (Windows NT 6.1) AppleWebKit/537.3...</td>\n",
       "      <td>2010-02-03 21:03:22</td>\n",
       "      <td>91933</td>\n",
       "      <td>178.92.70.220</td>\n",
       "      <td>False</td>\n",
       "    </tr>\n",
       "    <tr>\n",
       "      <th>1</th>\n",
       "      <td>Впервые встретился такой професиональный, отве...</td>\n",
       "      <td>2</td>\n",
       "      <td>709306</td>\n",
       "      <td>2016-12-10 08:38:27</td>\n",
       "      <td>2.0</td>\n",
       "      <td>5</td>\n",
       "      <td>Mozilla/5.0 (Linux; Android 5.1.1; C6602 Build...</td>\n",
       "      <td>2010-02-03 21:03:22</td>\n",
       "      <td>91933</td>\n",
       "      <td>94.179.59.162</td>\n",
       "      <td>False</td>\n",
       "    </tr>\n",
       "    <tr>\n",
       "      <th>2</th>\n",
       "      <td>Несерйозная, некоректная менеджер інтернет маг...</td>\n",
       "      <td>3</td>\n",
       "      <td>35287</td>\n",
       "      <td>2017-02-11 15:55:14</td>\n",
       "      <td>NaN</td>\n",
       "      <td>1</td>\n",
       "      <td>Mozilla/5.0 (Linux; Android 6.0; ASUS_X008D Bu...</td>\n",
       "      <td>2010-02-03 21:03:22</td>\n",
       "      <td>91933</td>\n",
       "      <td>37.73.137.188</td>\n",
       "      <td>False</td>\n",
       "    </tr>\n",
       "    <tr>\n",
       "      <th>3</th>\n",
       "      <td>Не рекомендую. Не отвечают, не выполняют заказы.</td>\n",
       "      <td>4</td>\n",
       "      <td>1778322</td>\n",
       "      <td>2017-06-26 18:00:45</td>\n",
       "      <td>1.0</td>\n",
       "      <td>1</td>\n",
       "      <td>Mozilla/5.0 (Linux; Android 6.0; ASUS_X008D Bu...</td>\n",
       "      <td>2010-02-03 21:03:22</td>\n",
       "      <td>91933</td>\n",
       "      <td>37.73.149.180</td>\n",
       "      <td>False</td>\n",
       "    </tr>\n",
       "    <tr>\n",
       "      <th>4</th>\n",
       "      <td>На письма не отвечают, заказы не выполняют. Не...</td>\n",
       "      <td>5</td>\n",
       "      <td>2821533</td>\n",
       "      <td>2017-07-06 16:57:40</td>\n",
       "      <td>NaN</td>\n",
       "      <td>1</td>\n",
       "      <td>Mozilla/5.0 (Linux; Android 6.0; ASUS_X008D Bu...</td>\n",
       "      <td>2010-02-03 21:03:22</td>\n",
       "      <td>91933</td>\n",
       "      <td>37.73.221.126</td>\n",
       "      <td>False</td>\n",
       "    </tr>\n",
       "  </tbody>\n",
       "</table>\n",
       "</div>"
      ],
      "text/plain": [
       "                                             comment  comment_id  company_id  \\\n",
       "0  компания не выполнила заказ без  обьяснения пр...           1     2169053   \n",
       "1  Впервые встретился такой професиональный, отве...           2      709306   \n",
       "2  Несерйозная, некоректная менеджер інтернет маг...           3       35287   \n",
       "3   Не рекомендую. Не отвечают, не выполняют заказы.           4     1778322   \n",
       "4  На письма не отвечают, заказы не выполняют. Не...           5     2821533   \n",
       "\n",
       "         date_created  product_id  rating  \\\n",
       "0 2014-10-23 20:26:44         6.0       1   \n",
       "1 2016-12-10 08:38:27         2.0       5   \n",
       "2 2017-02-11 15:55:14         NaN       1   \n",
       "3 2017-06-26 18:00:45         1.0       1   \n",
       "4 2017-07-06 16:57:40         NaN       1   \n",
       "\n",
       "                                          user_agent   user_date_created  \\\n",
       "0  Mozilla/5.0 (Windows NT 6.1) AppleWebKit/537.3... 2010-02-03 21:03:22   \n",
       "1  Mozilla/5.0 (Linux; Android 5.1.1; C6602 Build... 2010-02-03 21:03:22   \n",
       "2  Mozilla/5.0 (Linux; Android 6.0; ASUS_X008D Bu... 2010-02-03 21:03:22   \n",
       "3  Mozilla/5.0 (Linux; Android 6.0; ASUS_X008D Bu... 2010-02-03 21:03:22   \n",
       "4  Mozilla/5.0 (Linux; Android 6.0; ASUS_X008D Bu... 2010-02-03 21:03:22   \n",
       "\n",
       "   user_id        user_ip  is_fake  \n",
       "0    91933  178.92.70.220    False  \n",
       "1    91933  94.179.59.162    False  \n",
       "2    91933  37.73.137.188    False  \n",
       "3    91933  37.73.149.180    False  \n",
       "4    91933  37.73.221.126    False  "
      ]
     },
     "execution_count": 6,
     "metadata": {},
     "output_type": "execute_result"
    }
   ],
   "source": [
    "train.head()"
   ]
  },
  {
   "cell_type": "code",
   "execution_count": 10,
   "metadata": {
    "collapsed": true
   },
   "outputs": [
    {
     "name": "stdout",
     "output_type": "stream",
     "text": [
      "0\n",
      "1\n",
      "2\n",
      "3\n",
      "4\n",
      "5\n",
      "6\n",
      "7\n",
      "8\n",
      "9\n",
      "_\n",
      ":\n",
      "-\n",
      "[\n",
      "]\n",
      "!\n",
      ".\n",
      "+\n",
      ",\n",
      " \n",
      "(\n",
      ")\n",
      ";\n",
      "//\n"
     ]
    },
    {
     "data": {
      "text/plain": [
       "0          mozilla windowsnt applewebkit khtmllikegecko c...\n",
       "1          mozilla linux android cbuild a applewebkit kht...\n",
       "2          mozilla linux android asusxdbuild mrak applewe...\n",
       "3          mozilla linux android asusxdbuild mrak applewe...\n",
       "4          mozilla linux android asusxdbuild mrak applewe...\n",
       "5          mozilla windowsnt applewebkit khtmllikegecko c...\n",
       "6          mozilla linux android cbuild a applewebkit kht...\n",
       "7          mozilla windowsnt wow applewebkit khtmllikegec...\n",
       "8                        mozilla windowsnt rv gecko firefox \n",
       "9          mozilla windowsnt applewebkit khtmllikegecko c...\n",
       "10         mozilla windowsnt applewebkit khtmllikegecko c...\n",
       "11         mozilla windowsnt wow applewebkit khtmllikegec...\n",
       "12                   mozilla windowsnt wow rv gecko firefox \n",
       "13                   mozilla windowsnt wow rv gecko firefox \n",
       "14                   mozilla windowsnt wow rv gecko firefox \n",
       "15                   mozilla windowsnt wow rv gecko firefox \n",
       "16         mozilla windowsnt applewebkit khtmllikegecko c...\n",
       "17         mozilla windowsnt applewebkit khtmllikegecko c...\n",
       "18                   mozilla windowsnt wow rv gecko firefox \n",
       "19         mozilla windowsnt applewebkit khtmllikegecko c...\n",
       "20         mozilla windowsnt applewebkit khtmllikegecko c...\n",
       "21         mozilla windowsnt applewebkit khtmllikegecko c...\n",
       "22                           opera windowsnt presto version \n",
       "23         mozilla windowsnt wow applewebkit khtmllikegec...\n",
       "24         mozilla windowsnt wow applewebkit khtmllikegec...\n",
       "25         mozilla windowsnt win x applewebkit khtmllikeg...\n",
       "26         mozilla windowsnt wow applewebkit khtmllikegec...\n",
       "27         mozilla windowsnt wow applewebkit khtmllikegec...\n",
       "28         mozilla windowsnt wow applewebkit khtmllikegec...\n",
       "29         mozilla windowsnt wow applewebkit khtmllikegec...\n",
       "                                 ...                        \n",
       "1281469    mozilla windowsnt applewebkit khtmllikegecko c...\n",
       "1281470    mozilla linux android smgfbuild mmbk applewebk...\n",
       "1281471    mozilla macintosh intelmacosx applewebkit khtm...\n",
       "1281472    mozilla linux android mzprobuild lmyd appleweb...\n",
       "1281473              mozilla windowsnt wow rv gecko firefox \n",
       "1281474    mozilla windowsnt wow applewebkit khtmllikegec...\n",
       "1281475    mozilla windowsnt wow applewebkit khtmllikegec...\n",
       "1281476    mozilla windowsnt wow applewebkit khtmllikegec...\n",
       "1281477    mozilla iphone cpuiphoneoslikemacosx applewebk...\n",
       "1281478    mozilla windowsnt win x applewebkit khtmllikeg...\n",
       "1281479    mozilla windowsnt applewebkit khtmllikegecko c...\n",
       "1281480    mozilla windowsnt wow applewebkit khtmllikegec...\n",
       "1281481    mozilla windowsnt win x applewebkit khtmllikeg...\n",
       "1281482    mozilla windowsnt win x applewebkit khtmllikeg...\n",
       "1281483    mozilla windowsnt win x applewebkit khtmllikeg...\n",
       "1281484    mozilla windowsnt win x applewebkit khtmllikeg...\n",
       "1281485    mozilla windowsnt win x applewebkit khtmllikeg...\n",
       "1281486    mozilla windowsnt win x applewebkit khtmllikeg...\n",
       "1281487    mozilla windowsnt win x applewebkit khtmllikeg...\n",
       "1281488    mozilla windowsnt win x applewebkit khtmllikeg...\n",
       "1281489    mozilla windowsnt win x applewebkit khtmllikeg...\n",
       "1281490    mozilla windowsnt win x applewebkit khtmllikeg...\n",
       "1281491    mozilla windowsnt win x applewebkit khtmllikeg...\n",
       "1281492    mozilla windowsnt win x applewebkit khtmllikeg...\n",
       "1281493    mozilla windowsnt win x applewebkit khtmllikeg...\n",
       "1281494    mozilla windowsnt win x applewebkit khtmllikeg...\n",
       "1281495    mozilla windowsnt win x applewebkit khtmllikeg...\n",
       "1281496    mozilla windowsnt win x applewebkit khtmllikeg...\n",
       "1281497    mozilla windowsnt win x applewebkit khtmllikeg...\n",
       "1281498    mozilla windowsnt win x applewebkit khtmllikeg...\n",
       "Name: agent_encode, Length: 1281499, dtype: object"
      ]
     },
     "execution_count": 10,
     "metadata": {},
     "output_type": "execute_result"
    }
   ],
   "source": [
    "train['agent_encode'] = train['user_agent'].map(lambda x: str(x).lower())\n",
    "for symb in [str(j) for j in range(10)] + ['_' , ':' , '-' , '[' , ']'  , '!' ,'.' , '+' ,',' , ' ']:\n",
    "    print(symb)\n",
    "    train['agent_encode'] = train['agent_encode'].map(lambda x : str(x).replace(symb , ''))\n",
    "    \n",
    "for symb in ['(' , ')' , ';' , '//' ]:\n",
    "    print(symb)\n",
    "    train['agent_encode'] = train['agent_encode'].map(lambda x : str(x).replace(symb , '/'))\n",
    "train['agent_encode'] = train['agent_encode'].map(lambda x : str(x).replace('/' , ' '))\n",
    "train['agent_encode']"
   ]
  },
  {
   "cell_type": "code",
   "execution_count": null,
   "metadata": {},
   "outputs": [],
   "source": []
  },
  {
   "cell_type": "code",
   "execution_count": 11,
   "metadata": {
    "collapsed": true
   },
   "outputs": [
    {
     "name": "stdout",
     "output_type": "stream",
     "text": [
      "0\n",
      "1\n",
      "2\n",
      "3\n",
      "4\n",
      "5\n",
      "6\n",
      "7\n",
      "8\n",
      "9\n",
      "_\n",
      ":\n",
      "-\n",
      "[\n",
      "]\n",
      "!\n",
      ".\n",
      "+\n",
      ",\n",
      " \n",
      "(\n",
      ")\n",
      ";\n",
      "//\n"
     ]
    },
    {
     "data": {
      "text/plain": [
       "0         mozilla windowsnt applewebkit khtmllikegecko c...\n",
       "1         mozilla linux android cbuild a applewebkit kht...\n",
       "2         mozilla linux android asusxdbuild mrak applewe...\n",
       "3         mozilla linux android asusxdbuild mrak applewe...\n",
       "4         mozilla linux android asusxdbuild mrak applewe...\n",
       "5         mozilla windowsnt applewebkit khtmllikegecko c...\n",
       "6         mozilla linux android cbuild a applewebkit kht...\n",
       "7         mozilla windowsnt wow applewebkit khtmllikegec...\n",
       "8                       mozilla windowsnt rv gecko firefox \n",
       "9         mozilla windowsnt applewebkit khtmllikegecko c...\n",
       "10        mozilla windowsnt applewebkit khtmllikegecko c...\n",
       "11        mozilla windowsnt wow applewebkit khtmllikegec...\n",
       "12                  mozilla windowsnt wow rv gecko firefox \n",
       "13                  mozilla windowsnt wow rv gecko firefox \n",
       "14                  mozilla windowsnt wow rv gecko firefox \n",
       "15                  mozilla windowsnt wow rv gecko firefox \n",
       "16        mozilla windowsnt applewebkit khtmllikegecko c...\n",
       "17        mozilla windowsnt applewebkit khtmllikegecko c...\n",
       "18                  mozilla windowsnt wow rv gecko firefox \n",
       "19        mozilla windowsnt applewebkit khtmllikegecko c...\n",
       "20        mozilla windowsnt applewebkit khtmllikegecko c...\n",
       "21        mozilla windowsnt applewebkit khtmllikegecko c...\n",
       "22                          opera windowsnt presto version \n",
       "23        mozilla windowsnt wow applewebkit khtmllikegec...\n",
       "24        mozilla windowsnt wow applewebkit khtmllikegec...\n",
       "25        mozilla windowsnt win x applewebkit khtmllikeg...\n",
       "26        mozilla windowsnt wow applewebkit khtmllikegec...\n",
       "27        mozilla windowsnt wow applewebkit khtmllikegec...\n",
       "28        mozilla windowsnt wow applewebkit khtmllikegec...\n",
       "29        mozilla windowsnt wow applewebkit khtmllikegec...\n",
       "                                ...                        \n",
       "252069    mozilla windowsnt win x applewebkit khtmllikeg...\n",
       "252070    mozilla windowsnt win x applewebkit khtmllikeg...\n",
       "252071    mozilla windowsnt wow applewebkit khtmllikegec...\n",
       "252072    mozilla linux android asuszadbuild mmbp wv app...\n",
       "252073                  mozilla windowsnt rv gecko firefox \n",
       "252074    mozilla windowsnt wow applewebkit khtmllikegec...\n",
       "252075    mozilla windowsnt wow applewebkit khtmllikegec...\n",
       "252076    mozilla windowsnt wow applewebkit khtmllikegec...\n",
       "252077    mozilla windowsnt wow applewebkit khtmllikegec...\n",
       "252078    mozilla windowsnt wow applewebkit khtmllikegec...\n",
       "252079    mozilla windowsnt wow applewebkit khtmllikegec...\n",
       "252080    mozilla windowsnt wow applewebkit khtmllikegec...\n",
       "252081    mozilla windowsnt applewebkit khtmllikegecko c...\n",
       "252082    mozilla windowsnt applewebkit khtmllikegecko c...\n",
       "252083              mozilla windowsnt wow rv gecko firefox \n",
       "252084              mozilla windowsnt wow rv gecko firefox \n",
       "252085              mozilla windowsnt wow rv gecko firefox \n",
       "252086              mozilla windowsnt wow rv gecko firefox \n",
       "252087              mozilla windowsnt wow rv gecko firefox \n",
       "252088    mozilla windowsnt applewebkit khtmllikegecko c...\n",
       "252089              mozilla windowsnt wow rv gecko firefox \n",
       "252090    mozilla windowsnt wow applewebkit khtmllikegec...\n",
       "252091              mozilla windowsnt wow rv gecko firefox \n",
       "252092              mozilla windowsnt wow rv gecko firefox \n",
       "252093              mozilla windowsnt wow rv gecko firefox \n",
       "252094                  opera windowsnt wow presto version \n",
       "252095    mozilla windowsnt wow applewebkit khtmllikegec...\n",
       "252096                  opera windowsnt wow presto version \n",
       "252097    mozilla macintosh u intelmacosx enus applewebk...\n",
       "252098            opera windowsnt mra build presto version \n",
       "Name: agent_encode, Length: 252099, dtype: object"
      ]
     },
     "execution_count": 11,
     "metadata": {},
     "output_type": "execute_result"
    }
   ],
   "source": [
    "test['agent_encode'] = test['user_agent'].map(lambda x: str(x).lower())\n",
    "for symb in [str(j) for j in range(10)] + ['_' , ':' , '-' , '[' , ']'  , '!' ,'.' , '+' ,',' , ' ']:\n",
    "    print(symb)\n",
    "    test['agent_encode'] = test['agent_encode'].map(lambda x : str(x).replace(symb , ''))\n",
    "    \n",
    "for symb in ['(' , ')' , ';' , '//' ]:\n",
    "    print(symb)\n",
    "    test['agent_encode'] = train['agent_encode'].map(lambda x : str(x).replace(symb , '/'))\n",
    "test['agent_encode'] = train['agent_encode'].map(lambda x : str(x).replace('/' , ' '))\n",
    "test['agent_encode']"
   ]
  },
  {
   "cell_type": "code",
   "execution_count": 12,
   "metadata": {},
   "outputs": [
    {
     "data": {
      "text/plain": [
       "TfidfVectorizer(analyzer='word', binary=False, decode_error='strict',\n",
       "        dtype=<class 'numpy.int64'>, encoding='utf-8', input='content',\n",
       "        lowercase=True, max_df=1.0, max_features=None, min_df=10,\n",
       "        ngram_range=(1, 5), norm='l2', preprocessor=None, smooth_idf=True,\n",
       "        stop_words=None, strip_accents=None, sublinear_tf=False,\n",
       "        token_pattern='(?u)\\\\b\\\\w\\\\w+\\\\b', tokenizer=None, use_idf=True,\n",
       "        vocabulary=None)"
      ]
     },
     "execution_count": 12,
     "metadata": {},
     "output_type": "execute_result"
    }
   ],
   "source": [
    "from sklearn.feature_extraction.text import TfidfVectorizer, CountVectorizer\n",
    "train_agent_text = train['agent_encode']\n",
    "test_agent_text = test['agent_encode']\n",
    "\n",
    "all_agent_text = pd.concat([train_agent_text, test_agent_text])\n",
    "\n",
    "vectorizer_agent = TfidfVectorizer( min_df = 10 ,lowercase= True , ngram_range = (1 , 5))\n",
    "vectorizer_agent.fit(all_agent_text)\n",
    "\n",
    "train_agent = vectorizer_agent.transform(train_agent_text)\n",
    "test_agent = vectorizer_agent.transform(test_agent_text)\n",
    "\n",
    "vectorizer_agent"
   ]
  },
  {
   "cell_type": "code",
   "execution_count": 13,
   "metadata": {},
   "outputs": [
    {
     "data": {
      "text/plain": [
       "TfidfVectorizer(analyzer='word', binary=False, decode_error='strict',\n",
       "        dtype=<class 'numpy.int64'>, encoding='utf-8', input='content',\n",
       "        lowercase=True, max_df=1.0, max_features=None, min_df=10,\n",
       "        ngram_range=(1, 2), norm='l2', preprocessor=None, smooth_idf=True,\n",
       "        stop_words=None, strip_accents=None, sublinear_tf=False,\n",
       "        token_pattern='(?u)\\\\b\\\\w\\\\w+\\\\b', tokenizer=None, use_idf=True,\n",
       "        vocabulary=None)"
      ]
     },
     "execution_count": 13,
     "metadata": {},
     "output_type": "execute_result"
    }
   ],
   "source": [
    "from sklearn.feature_extraction.text import TfidfVectorizer, CountVectorizer\n",
    "train_comment_text = train['comment']\n",
    "test_comment_text = test['comment']\n",
    "\n",
    "all_comment_text = pd.concat([train_comment_text, test_comment_text])\n",
    "\n",
    "vectorizer_comment = TfidfVectorizer( min_df = 10 ,lowercase= True , ngram_range = (1 , 1))\n",
    "vectorizer_comment.fit(all_comment_text)\n",
    "\n",
    "train_comment1 = vectorizer_comment.transform(train_comment_text)\n",
    "test_comment1 = vectorizer_comment.transform(test_comment_text)\n",
    "\n",
    "vectorizer_comment = TfidfVectorizer( min_df = 10 ,lowercase= True , ngram_range = (1 , 2))\n",
    "vectorizer_comment.fit(all_comment_text)\n",
    "\n",
    "train_comment2 = vectorizer_comment.transform(train_comment_text)\n",
    "test_comment2 = vectorizer_comment.transform(test_comment_text)\n",
    "\n",
    "vectorizer_comment"
   ]
  },
  {
   "cell_type": "code",
   "execution_count": 14,
   "metadata": {},
   "outputs": [
    {
     "data": {
      "text/plain": [
       "<1281499x23483 sparse matrix of type '<class 'numpy.float64'>'\n",
       "\twith 31055489 stored elements in Compressed Sparse Row format>"
      ]
     },
     "execution_count": 14,
     "metadata": {},
     "output_type": "execute_result"
    }
   ],
   "source": [
    "train_agent"
   ]
  },
  {
   "cell_type": "code",
   "execution_count": 16,
   "metadata": {},
   "outputs": [
    {
     "data": {
      "text/plain": [
       "<1281499x295321 sparse matrix of type '<class 'numpy.float64'>'\n",
       "\twith 37540673 stored elements in Compressed Sparse Row format>"
      ]
     },
     "execution_count": 16,
     "metadata": {},
     "output_type": "execute_result"
    }
   ],
   "source": [
    "train_comment2"
   ]
  },
  {
   "cell_type": "code",
   "execution_count": 17,
   "metadata": {},
   "outputs": [],
   "source": [
    "from sklearn.linear_model import LogisticRegression\n",
    "from sklearn.model_selection import cross_val_score\n",
    "classifier = LogisticRegression(C =10 , solver ='sag' , n_jobs =-1) "
   ]
  },
  {
   "cell_type": "code",
   "execution_count": 18,
   "metadata": {},
   "outputs": [
    {
     "name": "stderr",
     "output_type": "stream",
     "text": [
      "[Parallel(n_jobs=-1)]: Done   2 out of   5 | elapsed:  2.0min remaining:  3.0min\n",
      "[Parallel(n_jobs=-1)]: Done   5 out of   5 | elapsed:  2.0min remaining:    0.0s\n",
      "[Parallel(n_jobs=-1)]: Done   5 out of   5 | elapsed:  2.0min finished\n",
      "[Parallel(n_jobs=-1)]: Done   2 out of   5 | elapsed:  1.7min remaining:  2.6min\n",
      "[Parallel(n_jobs=-1)]: Done   5 out of   5 | elapsed:  1.9min remaining:    0.0s\n",
      "[Parallel(n_jobs=-1)]: Done   5 out of   5 | elapsed:  1.9min finished\n"
     ]
    },
    {
     "ename": "NameError",
     "evalue": "name 'scipy' is not defined",
     "output_type": "error",
     "traceback": [
      "\u001b[0;31m---------------------------------------------------------------------------\u001b[0m",
      "\u001b[0;31mNameError\u001b[0m                                 Traceback (most recent call last)",
      "\u001b[0;32m<ipython-input-18-d10ba0c700c5>\u001b[0m in \u001b[0;36m<module>\u001b[0;34m()\u001b[0m\n\u001b[1;32m      4\u001b[0m \u001b[0mtrain_agent_and_comment\u001b[0m\u001b[0;34m[\u001b[0m\u001b[0;34m'log_comment'\u001b[0m\u001b[0;34m]\u001b[0m \u001b[0;34m=\u001b[0m\u001b[0mcross_val_predict\u001b[0m\u001b[0;34m(\u001b[0m\u001b[0mclassifier\u001b[0m \u001b[0;34m,\u001b[0m \u001b[0mtrain_comment2\u001b[0m \u001b[0;34m,\u001b[0m \u001b[0my\u001b[0m \u001b[0;34m,\u001b[0m \u001b[0mn_jobs\u001b[0m\u001b[0;34m=\u001b[0m \u001b[0;34m-\u001b[0m\u001b[0;36m1\u001b[0m \u001b[0;34m,\u001b[0m \u001b[0mcv\u001b[0m \u001b[0;34m=\u001b[0m \u001b[0mskf\u001b[0m\u001b[0;34m,\u001b[0m \u001b[0mverbose\u001b[0m \u001b[0;34m=\u001b[0m\u001b[0;36m2\u001b[0m\u001b[0;34m,\u001b[0m \u001b[0mmethod\u001b[0m\u001b[0;34m=\u001b[0m\u001b[0;34m'predict_proba'\u001b[0m\u001b[0;34m)\u001b[0m\u001b[0;34m\u001b[0m\u001b[0m\n\u001b[1;32m      5\u001b[0m train_agent_and_comment['log_coment_agent'] =cross_val_predict(classifier , \n\u001b[0;32m----> 6\u001b[0;31m                                                                \u001b[0mscipy\u001b[0m\u001b[0;34m.\u001b[0m\u001b[0msparse\u001b[0m\u001b[0;34m.\u001b[0m\u001b[0mhstack\u001b[0m\u001b[0;34m(\u001b[0m\u001b[0;34m[\u001b[0m\u001b[0mtrain_agent\u001b[0m \u001b[0;34m,\u001b[0m \u001b[0mtrain_comment1\u001b[0m\u001b[0;34m]\u001b[0m\u001b[0;34m)\u001b[0m \u001b[0;34m,\u001b[0m\u001b[0;34m\u001b[0m\u001b[0m\n\u001b[0m\u001b[1;32m      7\u001b[0m                                                                y , n_jobs= -1 , cv = skf, verbose =2, method='predict_proba')\n",
      "\u001b[0;31mNameError\u001b[0m: name 'scipy' is not defined"
     ]
    }
   ],
   "source": [
    "from sklearn.model_selection import cross_val_predict\n",
    "import scipy\n",
    "train_agent_and_comment =  pd.DataFrame(columns = ['log_comment' , 'log_agent' , 'log_coment_agent'] , index = train.index)\n",
    "train_agent_and_comment['log_agent'] =cross_val_predict(classifier , train_agent , y , n_jobs= -1 , cv = skf , verbose =2, method='predict_proba')[:,1]\n",
    "train_agent_and_comment['log_comment'] =cross_val_predict(classifier , train_comment2 , y , n_jobs= -1 , cv = skf, verbose =2, method='predict_proba')[:,1]\n",
    "train_agent_and_comment['log_coment_agent'] =cross_val_predict(classifier , \n",
    "                                                               scipy.sparse.hstack([train_agent , train_comment1]) ,\n",
    "                                                               y , n_jobs= -1 , cv = skf, verbose =2, method='predict_proba')[:,1]\n"
   ]
  },
  {
   "cell_type": "code",
   "execution_count": 31,
   "metadata": {},
   "outputs": [
    {
     "data": {
      "text/html": [
       "<div>\n",
       "<style scoped>\n",
       "    .dataframe tbody tr th:only-of-type {\n",
       "        vertical-align: middle;\n",
       "    }\n",
       "\n",
       "    .dataframe tbody tr th {\n",
       "        vertical-align: top;\n",
       "    }\n",
       "\n",
       "    .dataframe thead th {\n",
       "        text-align: right;\n",
       "    }\n",
       "</style>\n",
       "<table border=\"1\" class=\"dataframe\">\n",
       "  <thead>\n",
       "    <tr style=\"text-align: right;\">\n",
       "      <th></th>\n",
       "      <th>log_comment</th>\n",
       "      <th>log_agent</th>\n",
       "      <th>log_coment_agent</th>\n",
       "    </tr>\n",
       "  </thead>\n",
       "  <tbody>\n",
       "    <tr>\n",
       "      <th>0</th>\n",
       "      <td>0.000664</td>\n",
       "      <td>0.000603</td>\n",
       "      <td>6.094652e-05</td>\n",
       "    </tr>\n",
       "    <tr>\n",
       "      <th>1</th>\n",
       "      <td>0.001020</td>\n",
       "      <td>0.000498</td>\n",
       "      <td>4.613379e-05</td>\n",
       "    </tr>\n",
       "    <tr>\n",
       "      <th>2</th>\n",
       "      <td>0.000657</td>\n",
       "      <td>0.000064</td>\n",
       "      <td>2.298313e-06</td>\n",
       "    </tr>\n",
       "    <tr>\n",
       "      <th>3</th>\n",
       "      <td>0.000301</td>\n",
       "      <td>0.000081</td>\n",
       "      <td>8.855684e-07</td>\n",
       "    </tr>\n",
       "    <tr>\n",
       "      <th>4</th>\n",
       "      <td>0.000100</td>\n",
       "      <td>0.000078</td>\n",
       "      <td>3.351581e-06</td>\n",
       "    </tr>\n",
       "  </tbody>\n",
       "</table>\n",
       "</div>"
      ],
      "text/plain": [
       "   log_comment  log_agent  log_coment_agent\n",
       "0     0.000664   0.000603      6.094652e-05\n",
       "1     0.001020   0.000498      4.613379e-05\n",
       "2     0.000657   0.000064      2.298313e-06\n",
       "3     0.000301   0.000081      8.855684e-07\n",
       "4     0.000100   0.000078      3.351581e-06"
      ]
     },
     "execution_count": 31,
     "metadata": {},
     "output_type": "execute_result"
    }
   ],
   "source": [
    "train_agent_and_comment.head()"
   ]
  },
  {
   "cell_type": "code",
   "execution_count": 35,
   "metadata": {},
   "outputs": [
    {
     "name": "stdout",
     "output_type": "stream",
     "text": [
      "0.01222373636880763\n",
      "0.017384898299485998\n",
      "0.012519850646921833\n"
     ]
    }
   ],
   "source": [
    "from sklearn.metrics import log_loss\n",
    "for col in train_agent_and_comment.columns:\n",
    "    print(log_loss(y ,train_agent_and_comment[col]))"
   ]
  },
  {
   "cell_type": "code",
   "execution_count": 47,
   "metadata": {},
   "outputs": [
    {
     "name": "stdout",
     "output_type": "stream",
     "text": [
      "1\n",
      "2\n"
     ]
    }
   ],
   "source": [
    "test_agent_and_comment =  pd.DataFrame(columns = ['log_comment' , 'log_agent' , 'log_comment_agent'] , index = test.index)\n",
    "classifier.fit( train_agent , y)\n",
    "test_agent_and_comment['log_agent'] = classifier.predict_proba( test_agent)[:,1]\n",
    "print(1)\n",
    "classifier.fit( train_comment2 , y)\n",
    "test_agent_and_comment['log_comment'] = classifier.predict_proba( test_comment2)[:,1]\n",
    "print(2)\n",
    "classifier.fit( scipy.sparse.hstack([train_agent , train_comment1]) , y)\n",
    "test_agent_and_comment['log_comment_agent'] = classifier.predict_proba( scipy.sparse.hstack([test_agent , test_comment1]))[:,1]"
   ]
  },
  {
   "cell_type": "code",
   "execution_count": 48,
   "metadata": {},
   "outputs": [
    {
     "data": {
      "text/plain": [
       "log_comment          767.825714\n",
       "log_agent            497.338502\n",
       "log_coment_agent       0.000000\n",
       "log_comment_agent    381.892231\n",
       "dtype: float64"
      ]
     },
     "execution_count": 48,
     "metadata": {},
     "output_type": "execute_result"
    }
   ],
   "source": [
    "test_agent_and_comment.sum()"
   ]
  },
  {
   "cell_type": "code",
   "execution_count": 57,
   "metadata": {},
   "outputs": [],
   "source": [
    "from collections import defaultdict\n",
    "from sklearn.preprocessing import LabelEncoder, OneHotEncoder\n",
    "def __encode_categorical(df_list, cat_cols):\n",
    "    d = defaultdict(LabelEncoder)\n",
    "    codes = pd.concat(\n",
    "        [df[cat_cols] for df in df_list],\n",
    "        axis=0\n",
    "    ).fillna('').apply(\n",
    "        lambda x: d[x.name].fit(x)\n",
    "    ),\n",
    "    for df in df_list:\n",
    "        df[cat_cols] = df[cat_cols].fillna('').apply(\n",
    "            lambda x: d[x.name].transform(x))\n",
    "\n",
    "__encode_categorical(df_list=[test,train], cat_cols=['agent_encode'])"
   ]
  },
  {
   "cell_type": "code",
   "execution_count": 58,
   "metadata": {},
   "outputs": [],
   "source": [
    "test_agent_and_comment['agent_encode'] = test['agent_encode']\n",
    "train_agent_and_comment['agent_encode'] = train['agent_encode']"
   ]
  },
  {
   "cell_type": "code",
   "execution_count": 59,
   "metadata": {},
   "outputs": [
    {
     "data": {
      "text/html": [
       "<div>\n",
       "<style scoped>\n",
       "    .dataframe tbody tr th:only-of-type {\n",
       "        vertical-align: middle;\n",
       "    }\n",
       "\n",
       "    .dataframe tbody tr th {\n",
       "        vertical-align: top;\n",
       "    }\n",
       "\n",
       "    .dataframe thead th {\n",
       "        text-align: right;\n",
       "    }\n",
       "</style>\n",
       "<table border=\"1\" class=\"dataframe\">\n",
       "  <thead>\n",
       "    <tr style=\"text-align: right;\">\n",
       "      <th></th>\n",
       "      <th>log_comment</th>\n",
       "      <th>log_agent</th>\n",
       "      <th>log_coment_agent</th>\n",
       "      <th>agent_encode</th>\n",
       "    </tr>\n",
       "  </thead>\n",
       "  <tbody>\n",
       "    <tr>\n",
       "      <th>0</th>\n",
       "      <td>0.000664</td>\n",
       "      <td>0.000603</td>\n",
       "      <td>6.094652e-05</td>\n",
       "      <td>12049</td>\n",
       "    </tr>\n",
       "    <tr>\n",
       "      <th>1</th>\n",
       "      <td>0.001020</td>\n",
       "      <td>0.000498</td>\n",
       "      <td>4.613379e-05</td>\n",
       "      <td>2437</td>\n",
       "    </tr>\n",
       "    <tr>\n",
       "      <th>2</th>\n",
       "      <td>0.000657</td>\n",
       "      <td>0.000064</td>\n",
       "      <td>2.298313e-06</td>\n",
       "      <td>2103</td>\n",
       "    </tr>\n",
       "    <tr>\n",
       "      <th>3</th>\n",
       "      <td>0.000301</td>\n",
       "      <td>0.000081</td>\n",
       "      <td>8.855684e-07</td>\n",
       "      <td>2103</td>\n",
       "    </tr>\n",
       "    <tr>\n",
       "      <th>4</th>\n",
       "      <td>0.000100</td>\n",
       "      <td>0.000078</td>\n",
       "      <td>3.351581e-06</td>\n",
       "      <td>2103</td>\n",
       "    </tr>\n",
       "  </tbody>\n",
       "</table>\n",
       "</div>"
      ],
      "text/plain": [
       "   log_comment  log_agent  log_coment_agent  agent_encode\n",
       "0     0.000664   0.000603      6.094652e-05         12049\n",
       "1     0.001020   0.000498      4.613379e-05          2437\n",
       "2     0.000657   0.000064      2.298313e-06          2103\n",
       "3     0.000301   0.000081      8.855684e-07          2103\n",
       "4     0.000100   0.000078      3.351581e-06          2103"
      ]
     },
     "execution_count": 59,
     "metadata": {},
     "output_type": "execute_result"
    }
   ],
   "source": [
    "train_agent_and_comment.head()"
   ]
  },
  {
   "cell_type": "code",
   "execution_count": 60,
   "metadata": {},
   "outputs": [
    {
     "data": {
      "text/html": [
       "<div>\n",
       "<style scoped>\n",
       "    .dataframe tbody tr th:only-of-type {\n",
       "        vertical-align: middle;\n",
       "    }\n",
       "\n",
       "    .dataframe tbody tr th {\n",
       "        vertical-align: top;\n",
       "    }\n",
       "\n",
       "    .dataframe thead th {\n",
       "        text-align: right;\n",
       "    }\n",
       "</style>\n",
       "<table border=\"1\" class=\"dataframe\">\n",
       "  <thead>\n",
       "    <tr style=\"text-align: right;\">\n",
       "      <th></th>\n",
       "      <th>log_comment</th>\n",
       "      <th>log_agent</th>\n",
       "      <th>log_comment_agent</th>\n",
       "      <th>agent_encode</th>\n",
       "    </tr>\n",
       "  </thead>\n",
       "  <tbody>\n",
       "    <tr>\n",
       "      <th>0</th>\n",
       "      <td>0.001709</td>\n",
       "      <td>0.000597</td>\n",
       "      <td>0.022145</td>\n",
       "      <td>12049</td>\n",
       "    </tr>\n",
       "    <tr>\n",
       "      <th>1</th>\n",
       "      <td>0.000019</td>\n",
       "      <td>0.000408</td>\n",
       "      <td>0.000002</td>\n",
       "      <td>2437</td>\n",
       "    </tr>\n",
       "    <tr>\n",
       "      <th>2</th>\n",
       "      <td>0.002556</td>\n",
       "      <td>0.000069</td>\n",
       "      <td>0.000027</td>\n",
       "      <td>2103</td>\n",
       "    </tr>\n",
       "    <tr>\n",
       "      <th>3</th>\n",
       "      <td>0.000755</td>\n",
       "      <td>0.000069</td>\n",
       "      <td>0.000055</td>\n",
       "      <td>2103</td>\n",
       "    </tr>\n",
       "    <tr>\n",
       "      <th>4</th>\n",
       "      <td>0.009095</td>\n",
       "      <td>0.000069</td>\n",
       "      <td>0.000030</td>\n",
       "      <td>2103</td>\n",
       "    </tr>\n",
       "  </tbody>\n",
       "</table>\n",
       "</div>"
      ],
      "text/plain": [
       "   log_comment  log_agent  log_comment_agent  agent_encode\n",
       "0     0.001709   0.000597           0.022145         12049\n",
       "1     0.000019   0.000408           0.000002          2437\n",
       "2     0.002556   0.000069           0.000027          2103\n",
       "3     0.000755   0.000069           0.000055          2103\n",
       "4     0.009095   0.000069           0.000030          2103"
      ]
     },
     "execution_count": 60,
     "metadata": {},
     "output_type": "execute_result"
    }
   ],
   "source": [
    "test_agent_and_comment.head()"
   ]
  },
  {
   "cell_type": "code",
   "execution_count": 61,
   "metadata": {},
   "outputs": [],
   "source": [
    "train_agent_and_comment.to_csv('train_agent_and_comment.csv')\n",
    "test_agent_and_comment.to_csv('test_agent_and_comment.csv')"
   ]
  }
 ],
 "metadata": {
  "kernelspec": {
   "display_name": "Python 3",
   "language": "python",
   "name": "python3"
  },
  "language_info": {
   "codemirror_mode": {
    "name": "ipython",
    "version": 3
   },
   "file_extension": ".py",
   "mimetype": "text/x-python",
   "name": "python",
   "nbconvert_exporter": "python",
   "pygments_lexer": "ipython3",
   "version": "3.6.4"
  }
 },
 "nbformat": 4,
 "nbformat_minor": 2
}
