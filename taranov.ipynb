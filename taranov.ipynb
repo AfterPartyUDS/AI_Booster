{
 "cells": [
  {
   "cell_type": "code",
   "execution_count": 16,
   "metadata": {},
   "outputs": [],
   "source": [
    "import pandas as pd\n",
    "import numpy as np\n",
    "import math"
   ]
  },
  {
   "cell_type": "code",
   "execution_count": 17,
   "metadata": {},
   "outputs": [],
   "source": [
    "import matplotlib\n",
    "import matplotlib.pyplot as plt\n",
    "import seaborn as sns\n",
    "\n",
    "%matplotlib inline\n",
    "plt.style.use('fivethirtyeight')"
   ]
  },
  {
   "cell_type": "code",
   "execution_count": 18,
   "metadata": {},
   "outputs": [
    {
     "name": "stderr",
     "output_type": "stream",
     "text": [
      "D:\\Yaroslav\\Documents\\Anaconda\\lib\\site-packages\\IPython\\core\\interactiveshell.py:2728: DtypeWarning: Columns (4) have mixed types. Specify dtype option on import or set low_memory=False.\n",
      "  interactivity=interactivity, compiler=compiler, result=result)\n"
     ]
    }
   ],
   "source": [
    "train = pd.read_csv(\"train.csv\")\n",
    "test = pd.read_csv(\"test.csv\")"
   ]
  },
  {
   "cell_type": "code",
   "execution_count": 19,
   "metadata": {},
   "outputs": [],
   "source": [
    "sample = pd.read_csv(\"sample_submission.csv\")"
   ]
  },
  {
   "cell_type": "code",
   "execution_count": 20,
   "metadata": {},
   "outputs": [
    {
     "data": {
      "text/html": [
       "<div>\n",
       "<style scoped>\n",
       "    .dataframe tbody tr th:only-of-type {\n",
       "        vertical-align: middle;\n",
       "    }\n",
       "\n",
       "    .dataframe tbody tr th {\n",
       "        vertical-align: top;\n",
       "    }\n",
       "\n",
       "    .dataframe thead th {\n",
       "        text-align: right;\n",
       "    }\n",
       "</style>\n",
       "<table border=\"1\" class=\"dataframe\">\n",
       "  <thead>\n",
       "    <tr style=\"text-align: right;\">\n",
       "      <th></th>\n",
       "      <th>comment_id</th>\n",
       "      <th>company_id</th>\n",
       "      <th>user_id</th>\n",
       "      <th>product_id</th>\n",
       "      <th>comment</th>\n",
       "      <th>rating</th>\n",
       "      <th>date_created</th>\n",
       "      <th>user_date_created</th>\n",
       "      <th>user_ip</th>\n",
       "      <th>user_agent</th>\n",
       "      <th>is_fake</th>\n",
       "    </tr>\n",
       "  </thead>\n",
       "  <tbody>\n",
       "    <tr>\n",
       "      <th>0</th>\n",
       "      <td>1</td>\n",
       "      <td>2169053</td>\n",
       "      <td>91933</td>\n",
       "      <td>6.0</td>\n",
       "      <td>компания не выполнила заказ без  обьяснения пр...</td>\n",
       "      <td>1</td>\n",
       "      <td>2014-10-23 20:26:44</td>\n",
       "      <td>2010-02-03 21:03:22</td>\n",
       "      <td>178.92.70.220</td>\n",
       "      <td>Mozilla/5.0 (Windows NT 6.1) AppleWebKit/537.3...</td>\n",
       "      <td>False</td>\n",
       "    </tr>\n",
       "    <tr>\n",
       "      <th>1</th>\n",
       "      <td>2</td>\n",
       "      <td>709306</td>\n",
       "      <td>91933</td>\n",
       "      <td>2.0</td>\n",
       "      <td>Впервые встретился такой професиональный, отве...</td>\n",
       "      <td>5</td>\n",
       "      <td>2016-12-10 08:38:27</td>\n",
       "      <td>2010-02-03 21:03:22</td>\n",
       "      <td>94.179.59.162</td>\n",
       "      <td>Mozilla/5.0 (Linux; Android 5.1.1; C6602 Build...</td>\n",
       "      <td>False</td>\n",
       "    </tr>\n",
       "    <tr>\n",
       "      <th>2</th>\n",
       "      <td>3</td>\n",
       "      <td>35287</td>\n",
       "      <td>91933</td>\n",
       "      <td>NaN</td>\n",
       "      <td>Несерйозная, некоректная менеджер інтернет маг...</td>\n",
       "      <td>1</td>\n",
       "      <td>2017-02-11 15:55:14</td>\n",
       "      <td>2010-02-03 21:03:22</td>\n",
       "      <td>37.73.137.188</td>\n",
       "      <td>Mozilla/5.0 (Linux; Android 6.0; ASUS_X008D Bu...</td>\n",
       "      <td>False</td>\n",
       "    </tr>\n",
       "    <tr>\n",
       "      <th>3</th>\n",
       "      <td>4</td>\n",
       "      <td>1778322</td>\n",
       "      <td>91933</td>\n",
       "      <td>1.0</td>\n",
       "      <td>Не рекомендую. Не отвечают, не выполняют заказы.</td>\n",
       "      <td>1</td>\n",
       "      <td>2017-06-26 18:00:45</td>\n",
       "      <td>2010-02-03 21:03:22</td>\n",
       "      <td>37.73.149.180</td>\n",
       "      <td>Mozilla/5.0 (Linux; Android 6.0; ASUS_X008D Bu...</td>\n",
       "      <td>False</td>\n",
       "    </tr>\n",
       "    <tr>\n",
       "      <th>4</th>\n",
       "      <td>5</td>\n",
       "      <td>2821533</td>\n",
       "      <td>91933</td>\n",
       "      <td>NaN</td>\n",
       "      <td>На письма не отвечают, заказы не выполняют. Не...</td>\n",
       "      <td>1</td>\n",
       "      <td>2017-07-06 16:57:40</td>\n",
       "      <td>2010-02-03 21:03:22</td>\n",
       "      <td>37.73.221.126</td>\n",
       "      <td>Mozilla/5.0 (Linux; Android 6.0; ASUS_X008D Bu...</td>\n",
       "      <td>False</td>\n",
       "    </tr>\n",
       "  </tbody>\n",
       "</table>\n",
       "</div>"
      ],
      "text/plain": [
       "   comment_id  company_id  user_id  product_id  \\\n",
       "0           1     2169053    91933         6.0   \n",
       "1           2      709306    91933         2.0   \n",
       "2           3       35287    91933         NaN   \n",
       "3           4     1778322    91933         1.0   \n",
       "4           5     2821533    91933         NaN   \n",
       "\n",
       "                                             comment  rating  \\\n",
       "0  компания не выполнила заказ без  обьяснения пр...       1   \n",
       "1  Впервые встретился такой професиональный, отве...       5   \n",
       "2  Несерйозная, некоректная менеджер інтернет маг...       1   \n",
       "3   Не рекомендую. Не отвечают, не выполняют заказы.       1   \n",
       "4  На письма не отвечают, заказы не выполняют. Не...       1   \n",
       "\n",
       "          date_created    user_date_created        user_ip  \\\n",
       "0  2014-10-23 20:26:44  2010-02-03 21:03:22  178.92.70.220   \n",
       "1  2016-12-10 08:38:27  2010-02-03 21:03:22  94.179.59.162   \n",
       "2  2017-02-11 15:55:14  2010-02-03 21:03:22  37.73.137.188   \n",
       "3  2017-06-26 18:00:45  2010-02-03 21:03:22  37.73.149.180   \n",
       "4  2017-07-06 16:57:40  2010-02-03 21:03:22  37.73.221.126   \n",
       "\n",
       "                                          user_agent  is_fake  \n",
       "0  Mozilla/5.0 (Windows NT 6.1) AppleWebKit/537.3...    False  \n",
       "1  Mozilla/5.0 (Linux; Android 5.1.1; C6602 Build...    False  \n",
       "2  Mozilla/5.0 (Linux; Android 6.0; ASUS_X008D Bu...    False  \n",
       "3  Mozilla/5.0 (Linux; Android 6.0; ASUS_X008D Bu...    False  \n",
       "4  Mozilla/5.0 (Linux; Android 6.0; ASUS_X008D Bu...    False  "
      ]
     },
     "execution_count": 20,
     "metadata": {},
     "output_type": "execute_result"
    }
   ],
   "source": [
    "train.head()"
   ]
  },
  {
   "cell_type": "code",
   "execution_count": 31,
   "metadata": {},
   "outputs": [],
   "source": [
    "feat = train[\"rating\"]"
   ]
  },
  {
   "cell_type": "code",
   "execution_count": 22,
   "metadata": {},
   "outputs": [
    {
     "data": {
      "text/plain": [
       "<matplotlib.axes._subplots.AxesSubplot at 0x125a34bbba8>"
      ]
     },
     "execution_count": 22,
     "metadata": {},
     "output_type": "execute_result"
    },
    {
     "data": {
      "image/png": "[encoded data removed]",
      "text/plain": [
       "<matplotlib.figure.Figure at 0x125a34bb390>"
      ]
     },
     "metadata": {},
     "output_type": "display_data"
    }
   ],
   "source": [
    "corr=train.corr()\n",
    "plt.figure(figsize=(10,8))\n",
    "sns.heatmap(corr,\n",
    "            xticklabels=corr.columns.values,\n",
    "            yticklabels=corr.columns.values, annot=True, cmap=\"YlGnBu\")"
   ]
  },
  {
   "cell_type": "code",
   "execution_count": 23,
   "metadata": {},
   "outputs": [
    {
     "name": "stdout",
     "output_type": "stream",
     "text": [
      "Check for missing values in Train dataset\n",
      "comment_id                0\n",
      "company_id                0\n",
      "user_id                   0\n",
      "product_id           452022\n",
      "comment                   0\n",
      "rating                    0\n",
      "date_created              0\n",
      "user_date_created         0\n",
      "user_ip                 217\n",
      "user_agent              219\n",
      "is_fake                   0\n",
      "dtype: int64\n"
     ]
    }
   ],
   "source": [
    "print(\"Check for missing values in Train dataset\")\n",
    "null_check=train.isnull().sum()\n",
    "print(null_check)"
   ]
  },
  {
   "cell_type": "code",
   "execution_count": 35,
   "metadata": {},
   "outputs": [],
   "source": [
    "x = feat.value_counts()"
   ]
  },
  {
   "cell_type": "code",
   "execution_count": 36,
   "metadata": {},
   "outputs": [
    {
     "data": {
      "image/png": "[encoded data removed]",
      "text/plain": [
       "<matplotlib.figure.Figure at 0x125e0d1b978>"
      ]
     },
     "metadata": {},
     "output_type": "display_data"
    }
   ],
   "source": [
    "plt.figure(figsize=(10,5))\n",
    "ax= sns.barplot(x.index, x.values, alpha=0.8)\n",
    "plt.title(\"# per class\")\n",
    "plt.ylabel('# of Occurrences', fontsize=12)\n",
    "plt.xlabel('Type ', fontsize=12)\n",
    "\n",
    "#adding the text labels\n",
    "rects = ax.patches\n",
    "labels = x.values\n",
    "for rect, label in zip(rects, labels):\n",
    "    height = rect.get_height()\n",
    "    ax.text(rect.get_x() + rect.get_width()/2, height + 5, label, ha='center', va='bottom')\n",
    "\n",
    "plt.show()"
   ]
  }
 ],
 "metadata": {
  "kernelspec": {
   "display_name": "Python 3",
   "language": "python",
   "name": "python3"
  },
  "language_info": {
   "codemirror_mode": {
    "name": "ipython",
    "version": 3
   },
   "file_extension": ".py",
   "mimetype": "text/x-python",
   "name": "python",
   "nbconvert_exporter": "python",
   "pygments_lexer": "ipython3",
   "version": "3.6.4"
  }
 },
 "nbformat": 4,
 "nbformat_minor": 2
}
