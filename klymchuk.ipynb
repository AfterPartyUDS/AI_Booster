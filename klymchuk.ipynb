{
 "cells": [
  {
   "cell_type": "code",
   "execution_count": 1,
   "metadata": {},
   "outputs": [],
   "source": [
    "#comment_text длина кол-во слов, предложен, средняя длина предлож кол-во знаков препин кол-во уникальных слов, средняя длина слова\n",
    "import pandas as pd\n",
    "import pandas_profiling as pp\n",
    "from sklearn.feature_extraction.text import TfidfVectorizer\n",
    "import numpy as np\n",
    "from sklearn.preprocessing import OneHotEncoder\n",
    "import scipy.sparse\n",
    "from sklearn.model_selection import StratifiedKFold\n",
    "from sklearn.svm import SVC"
   ]
  },
  {
   "cell_type": "code",
   "execution_count": 2,
   "metadata": {},
   "outputs": [
    {
     "name": "stderr",
     "output_type": "stream",
     "text": [
      "c:\\python36\\lib\\site-packages\\IPython\\core\\interactiveshell.py:2728: DtypeWarning: Columns (4) have mixed types. Specify dtype option on import or set low_memory=False.\n",
      "  interactivity=interactivity, compiler=compiler, result=result)\n"
     ]
    }
   ],
   "source": [
    "data_train = pd.read_csv(r'E:\\PycharmProjects\\Machine_L\\Data_Science_Club\\Hackathon\\train (1).csv')\n",
    "data_test = pd.read_csv(r'E:\\PycharmProjects\\Machine_L\\Data_Science_Club\\Hackathon\\test (1).csv')"
   ]
  },
  {
   "cell_type": "code",
   "execution_count": 3,
   "metadata": {},
   "outputs": [],
   "source": [
    "data_test.drop(['month_created'], axis = 1, inplace = True)"
   ]
  },
  {
   "cell_type": "code",
   "execution_count": 4,
   "metadata": {},
   "outputs": [
    {
     "data": {
      "text/html": [
       "<div>\n",
       "<style scoped>\n",
       "    .dataframe tbody tr th:only-of-type {\n",
       "        vertical-align: middle;\n",
       "    }\n",
       "\n",
       "    .dataframe tbody tr th {\n",
       "        vertical-align: top;\n",
       "    }\n",
       "\n",
       "    .dataframe thead th {\n",
       "        text-align: right;\n",
       "    }\n",
       "</style>\n",
       "<table border=\"1\" class=\"dataframe\">\n",
       "  <thead>\n",
       "    <tr style=\"text-align: right;\">\n",
       "      <th></th>\n",
       "      <th>comment</th>\n",
       "      <th>comment_id</th>\n",
       "      <th>company_id</th>\n",
       "      <th>date_created</th>\n",
       "      <th>product_id</th>\n",
       "      <th>rating</th>\n",
       "      <th>user_agent</th>\n",
       "      <th>user_date_created</th>\n",
       "      <th>user_id</th>\n",
       "      <th>user_ip</th>\n",
       "    </tr>\n",
       "  </thead>\n",
       "  <tbody>\n",
       "    <tr>\n",
       "      <th>0</th>\n",
       "      <td>спасибо все отлично, качество как на картинке,...</td>\n",
       "      <td>1655822</td>\n",
       "      <td>2214161</td>\n",
       "      <td>2018-03-19 21:36:07</td>\n",
       "      <td>1301549.0</td>\n",
       "      <td>5</td>\n",
       "      <td>NaN</td>\n",
       "      <td>2017-11-01 00:00:46</td>\n",
       "      <td>12969242</td>\n",
       "      <td>NaN</td>\n",
       "    </tr>\n",
       "  </tbody>\n",
       "</table>\n",
       "</div>"
      ],
      "text/plain": [
       "                                             comment  comment_id  company_id  \\\n",
       "0  спасибо все отлично, качество как на картинке,...     1655822     2214161   \n",
       "\n",
       "          date_created  product_id  rating user_agent    user_date_created  \\\n",
       "0  2018-03-19 21:36:07   1301549.0       5        NaN  2017-11-01 00:00:46   \n",
       "\n",
       "    user_id user_ip  \n",
       "0  12969242     NaN  "
      ]
     },
     "execution_count": 4,
     "metadata": {},
     "output_type": "execute_result"
    }
   ],
   "source": [
    "data_test.head(1)"
   ]
  },
  {
   "cell_type": "code",
   "execution_count": 5,
   "metadata": {},
   "outputs": [],
   "source": [
    "target = data_train.is_fake"
   ]
  },
  {
   "cell_type": "code",
   "execution_count": 6,
   "metadata": {},
   "outputs": [],
   "source": [
    "data_train= data_train[data_test.columns.tolist()]\n",
    "data_train['is_fake'] = target"
   ]
  },
  {
   "cell_type": "code",
   "execution_count": 7,
   "metadata": {},
   "outputs": [
    {
     "data": {
      "text/html": [
       "<div>\n",
       "<style scoped>\n",
       "    .dataframe tbody tr th:only-of-type {\n",
       "        vertical-align: middle;\n",
       "    }\n",
       "\n",
       "    .dataframe tbody tr th {\n",
       "        vertical-align: top;\n",
       "    }\n",
       "\n",
       "    .dataframe thead th {\n",
       "        text-align: right;\n",
       "    }\n",
       "</style>\n",
       "<table border=\"1\" class=\"dataframe\">\n",
       "  <thead>\n",
       "    <tr style=\"text-align: right;\">\n",
       "      <th></th>\n",
       "      <th>comment</th>\n",
       "      <th>comment_id</th>\n",
       "      <th>company_id</th>\n",
       "      <th>date_created</th>\n",
       "      <th>product_id</th>\n",
       "      <th>rating</th>\n",
       "      <th>user_agent</th>\n",
       "      <th>user_date_created</th>\n",
       "      <th>user_id</th>\n",
       "      <th>user_ip</th>\n",
       "      <th>is_fake</th>\n",
       "    </tr>\n",
       "  </thead>\n",
       "  <tbody>\n",
       "    <tr>\n",
       "      <th>0</th>\n",
       "      <td>компания не выполнила заказ без  обьяснения пр...</td>\n",
       "      <td>1</td>\n",
       "      <td>2169053</td>\n",
       "      <td>2014-10-23 20:26:44</td>\n",
       "      <td>6.0</td>\n",
       "      <td>1</td>\n",
       "      <td>Mozilla/5.0 (Windows NT 6.1) AppleWebKit/537.3...</td>\n",
       "      <td>2010-02-03 21:03:22</td>\n",
       "      <td>91933</td>\n",
       "      <td>178.92.70.220</td>\n",
       "      <td>False</td>\n",
       "    </tr>\n",
       "    <tr>\n",
       "      <th>1</th>\n",
       "      <td>Впервые встретился такой професиональный, отве...</td>\n",
       "      <td>2</td>\n",
       "      <td>709306</td>\n",
       "      <td>2016-12-10 08:38:27</td>\n",
       "      <td>2.0</td>\n",
       "      <td>5</td>\n",
       "      <td>Mozilla/5.0 (Linux; Android 5.1.1; C6602 Build...</td>\n",
       "      <td>2010-02-03 21:03:22</td>\n",
       "      <td>91933</td>\n",
       "      <td>94.179.59.162</td>\n",
       "      <td>False</td>\n",
       "    </tr>\n",
       "    <tr>\n",
       "      <th>2</th>\n",
       "      <td>Несерйозная, некоректная менеджер інтернет маг...</td>\n",
       "      <td>3</td>\n",
       "      <td>35287</td>\n",
       "      <td>2017-02-11 15:55:14</td>\n",
       "      <td>NaN</td>\n",
       "      <td>1</td>\n",
       "      <td>Mozilla/5.0 (Linux; Android 6.0; ASUS_X008D Bu...</td>\n",
       "      <td>2010-02-03 21:03:22</td>\n",
       "      <td>91933</td>\n",
       "      <td>37.73.137.188</td>\n",
       "      <td>False</td>\n",
       "    </tr>\n",
       "    <tr>\n",
       "      <th>3</th>\n",
       "      <td>Не рекомендую. Не отвечают, не выполняют заказы.</td>\n",
       "      <td>4</td>\n",
       "      <td>1778322</td>\n",
       "      <td>2017-06-26 18:00:45</td>\n",
       "      <td>1.0</td>\n",
       "      <td>1</td>\n",
       "      <td>Mozilla/5.0 (Linux; Android 6.0; ASUS_X008D Bu...</td>\n",
       "      <td>2010-02-03 21:03:22</td>\n",
       "      <td>91933</td>\n",
       "      <td>37.73.149.180</td>\n",
       "      <td>False</td>\n",
       "    </tr>\n",
       "    <tr>\n",
       "      <th>4</th>\n",
       "      <td>На письма не отвечают, заказы не выполняют. Не...</td>\n",
       "      <td>5</td>\n",
       "      <td>2821533</td>\n",
       "      <td>2017-07-06 16:57:40</td>\n",
       "      <td>NaN</td>\n",
       "      <td>1</td>\n",
       "      <td>Mozilla/5.0 (Linux; Android 6.0; ASUS_X008D Bu...</td>\n",
       "      <td>2010-02-03 21:03:22</td>\n",
       "      <td>91933</td>\n",
       "      <td>37.73.221.126</td>\n",
       "      <td>False</td>\n",
       "    </tr>\n",
       "  </tbody>\n",
       "</table>\n",
       "</div>"
      ],
      "text/plain": [
       "                                             comment  comment_id  company_id  \\\n",
       "0  компания не выполнила заказ без  обьяснения пр...           1     2169053   \n",
       "1  Впервые встретился такой професиональный, отве...           2      709306   \n",
       "2  Несерйозная, некоректная менеджер інтернет маг...           3       35287   \n",
       "3   Не рекомендую. Не отвечают, не выполняют заказы.           4     1778322   \n",
       "4  На письма не отвечают, заказы не выполняют. Не...           5     2821533   \n",
       "\n",
       "          date_created  product_id  rating  \\\n",
       "0  2014-10-23 20:26:44         6.0       1   \n",
       "1  2016-12-10 08:38:27         2.0       5   \n",
       "2  2017-02-11 15:55:14         NaN       1   \n",
       "3  2017-06-26 18:00:45         1.0       1   \n",
       "4  2017-07-06 16:57:40         NaN       1   \n",
       "\n",
       "                                          user_agent    user_date_created  \\\n",
       "0  Mozilla/5.0 (Windows NT 6.1) AppleWebKit/537.3...  2010-02-03 21:03:22   \n",
       "1  Mozilla/5.0 (Linux; Android 5.1.1; C6602 Build...  2010-02-03 21:03:22   \n",
       "2  Mozilla/5.0 (Linux; Android 6.0; ASUS_X008D Bu...  2010-02-03 21:03:22   \n",
       "3  Mozilla/5.0 (Linux; Android 6.0; ASUS_X008D Bu...  2010-02-03 21:03:22   \n",
       "4  Mozilla/5.0 (Linux; Android 6.0; ASUS_X008D Bu...  2010-02-03 21:03:22   \n",
       "\n",
       "   user_id        user_ip  is_fake  \n",
       "0    91933  178.92.70.220    False  \n",
       "1    91933  94.179.59.162    False  \n",
       "2    91933  37.73.137.188    False  \n",
       "3    91933  37.73.149.180    False  \n",
       "4    91933  37.73.221.126    False  "
      ]
     },
     "execution_count": 7,
     "metadata": {},
     "output_type": "execute_result"
    }
   ],
   "source": [
    "data_train.head()"
   ]
  },
  {
   "cell_type": "code",
   "execution_count": 8,
   "metadata": {},
   "outputs": [
    {
     "data": {
      "text/plain": [
       "False    1276801\n",
       "True        4698\n",
       "Name: is_fake, dtype: int64"
      ]
     },
     "execution_count": 8,
     "metadata": {},
     "output_type": "execute_result"
    }
   ],
   "source": [
    "data_train.is_fake.value_counts()"
   ]
  },
  {
   "cell_type": "code",
   "execution_count": 9,
   "metadata": {},
   "outputs": [],
   "source": [
    "data_train.loc[:, 'is_fake'] = data_train.loc[:, 'is_fake'].replace(to_replace = [False, True], value = [0, 1])"
   ]
  },
  {
   "cell_type": "code",
   "execution_count": 10,
   "metadata": {},
   "outputs": [],
   "source": [
    "all_text = pd.concat([data_train['comment'], data_test['comment']])"
   ]
  },
  {
   "cell_type": "code",
   "execution_count": 11,
   "metadata": {},
   "outputs": [],
   "source": [
    "fakes = data_train[data_train.is_fake == 1]\n",
    "trues = data_train[data_train.is_fake == 0]\n",
    "fakes.index = [i for i in range(fakes.shape[0])]\n",
    "trues.index = [i for i in range(trues.shape[0])]"
   ]
  },
  {
   "cell_type": "code",
   "execution_count": 12,
   "metadata": {},
   "outputs": [
    {
     "data": {
      "text/plain": [
       "'Огромное спасибо за посылку! Крылья бабочек-супер! Удачи вам!'"
      ]
     },
     "execution_count": 12,
     "metadata": {},
     "output_type": "execute_result"
    }
   ],
   "source": [
    "#working with fakes\n",
    "fakes.comment[0]"
   ]
  },
  {
   "cell_type": "code",
   "execution_count": 13,
   "metadata": {},
   "outputs": [
    {
     "data": {
      "text/plain": [
       "'Огромное спасибо за посылку! Крылья бабочек супер! Удачи вам!'"
      ]
     },
     "execution_count": 13,
     "metadata": {},
     "output_type": "execute_result"
    }
   ],
   "source": [
    "fakes.comment[0].replace('-', ' ')"
   ]
  },
  {
   "cell_type": "code",
   "execution_count": 14,
   "metadata": {},
   "outputs": [],
   "source": [
    "lens_fakes_comments = [len(fakes.comment[i]) for i in range(fakes.shape[0])] #длины фейковых комментариев"
   ]
  },
  {
   "cell_type": "code",
   "execution_count": 15,
   "metadata": {},
   "outputs": [],
   "source": [
    "lens_trues_comments = [len(trues.comment[i]) for i in range(trues.shape[0])]#длины настоящих комментариев"
   ]
  },
  {
   "cell_type": "code",
   "execution_count": 16,
   "metadata": {},
   "outputs": [],
   "source": [
    "nb_words_fakes = [len(fakes.comment[i].replace('-', ' ').split()) for i in range(fakes.shape[0])] #кол-во слов в фейковых комментах"
   ]
  },
  {
   "cell_type": "code",
   "execution_count": 17,
   "metadata": {},
   "outputs": [],
   "source": [
    "nb_words_trues = [len(trues.comment[i].replace('-', ' ').split()) for i in range(trues.shape[0])] #кол-во слов в настоящих комментах"
   ]
  },
  {
   "cell_type": "code",
   "execution_count": 18,
   "metadata": {},
   "outputs": [],
   "source": [
    "nb_unique_words_fakes = [len(np.unique(fakes.comment[i].replace('-', ' ').split())) for i in range(fakes.shape[0])] #кол-во уникальных слов в фейковых комментах"
   ]
  },
  {
   "cell_type": "code",
   "execution_count": 19,
   "metadata": {},
   "outputs": [],
   "source": [
    "nb_unique_words_trues = [len(np.unique(trues.comment[i].replace('-', ' ').split())) for i in range(trues.shape[0])] #кол-во уникальных слов в настоящих комментах"
   ]
  },
  {
   "cell_type": "code",
   "execution_count": 20,
   "metadata": {},
   "outputs": [],
   "source": [
    "freq_words_fakes = list(np.array(nb_unique_words_fakes) / np.array(nb_words_fakes))"
   ]
  },
  {
   "cell_type": "code",
   "execution_count": 21,
   "metadata": {},
   "outputs": [
    {
     "name": "stderr",
     "output_type": "stream",
     "text": [
      "c:\\python36\\lib\\site-packages\\ipykernel_launcher.py:1: RuntimeWarning: invalid value encountered in true_divide\n",
      "  \"\"\"Entry point for launching an IPython kernel.\n"
     ]
    }
   ],
   "source": [
    "freq_words_trues = list(np.array(nb_unique_words_trues) / np.array(nb_words_trues))"
   ]
  },
  {
   "cell_type": "code",
   "execution_count": 22,
   "metadata": {},
   "outputs": [
    {
     "data": {
      "text/plain": [
       "0.5714285714285714"
      ]
     },
     "execution_count": 22,
     "metadata": {},
     "output_type": "execute_result"
    }
   ],
   "source": [
    "min(freq_words_fakes)"
   ]
  },
  {
   "cell_type": "code",
   "execution_count": 23,
   "metadata": {},
   "outputs": [
    {
     "data": {
      "text/plain": [
       "0.029411764705882353"
      ]
     },
     "execution_count": 23,
     "metadata": {},
     "output_type": "execute_result"
    }
   ],
   "source": [
    "min(freq_words_trues)"
   ]
  },
  {
   "cell_type": "code",
   "execution_count": 24,
   "metadata": {},
   "outputs": [
    {
     "data": {
      "text/html": [
       "<div>\n",
       "<style scoped>\n",
       "    .dataframe tbody tr th:only-of-type {\n",
       "        vertical-align: middle;\n",
       "    }\n",
       "\n",
       "    .dataframe tbody tr th {\n",
       "        vertical-align: top;\n",
       "    }\n",
       "\n",
       "    .dataframe thead th {\n",
       "        text-align: right;\n",
       "    }\n",
       "</style>\n",
       "<table border=\"1\" class=\"dataframe\">\n",
       "  <thead>\n",
       "    <tr style=\"text-align: right;\">\n",
       "      <th></th>\n",
       "      <th>comment</th>\n",
       "      <th>comment_id</th>\n",
       "      <th>company_id</th>\n",
       "      <th>date_created</th>\n",
       "      <th>product_id</th>\n",
       "      <th>rating</th>\n",
       "      <th>user_agent</th>\n",
       "      <th>user_date_created</th>\n",
       "      <th>user_id</th>\n",
       "      <th>user_ip</th>\n",
       "      <th>is_fake</th>\n",
       "    </tr>\n",
       "  </thead>\n",
       "  <tbody>\n",
       "    <tr>\n",
       "      <th>290775</th>\n",
       "      <td>good good good good good good good good good g...</td>\n",
       "      <td>331429</td>\n",
       "      <td>988607</td>\n",
       "      <td>2014-11-04 08:19:11</td>\n",
       "      <td>NaN</td>\n",
       "      <td>5</td>\n",
       "      <td>Mozilla/5.0 (X11; Linux x86_64) AppleWebKit/53...</td>\n",
       "      <td>2013-09-23 15:11:52</td>\n",
       "      <td>1359135</td>\n",
       "      <td>195.95.210.249</td>\n",
       "      <td>0</td>\n",
       "    </tr>\n",
       "  </tbody>\n",
       "</table>\n",
       "</div>"
      ],
      "text/plain": [
       "                                                  comment  comment_id  \\\n",
       "290775  good good good good good good good good good g...      331429   \n",
       "\n",
       "        company_id         date_created  product_id  rating  \\\n",
       "290775      988607  2014-11-04 08:19:11         NaN       5   \n",
       "\n",
       "                                               user_agent  \\\n",
       "290775  Mozilla/5.0 (X11; Linux x86_64) AppleWebKit/53...   \n",
       "\n",
       "          user_date_created  user_id         user_ip  is_fake  \n",
       "290775  2013-09-23 15:11:52  1359135  195.95.210.249        0  "
      ]
     },
     "execution_count": 24,
     "metadata": {},
     "output_type": "execute_result"
    }
   ],
   "source": [
    "trues[trues.index == freq_words_trues.index(min(freq_words_trues))]"
   ]
  },
  {
   "cell_type": "code",
   "execution_count": 25,
   "metadata": {},
   "outputs": [],
   "source": [
    "data_train.loc[:, 'lens_comments'] = 0"
   ]
  },
  {
   "cell_type": "code",
   "execution_count": 26,
   "metadata": {},
   "outputs": [],
   "source": [
    "data_train.loc[:, 'nb_words'] = 0"
   ]
  },
  {
   "cell_type": "code",
   "execution_count": 27,
   "metadata": {},
   "outputs": [],
   "source": [
    "data_train.loc[:, 'nb_unique_words'] = 0"
   ]
  },
  {
   "cell_type": "code",
   "execution_count": 28,
   "metadata": {},
   "outputs": [],
   "source": [
    "data_train.loc[:, 'freq_words'] = 0"
   ]
  },
  {
   "cell_type": "code",
   "execution_count": 33,
   "metadata": {},
   "outputs": [
    {
     "data": {
      "text/plain": [
       "\"\\ndata_train[data_train.is_fake == 1].loc[:, 'lens_comments'] = lens_fakes_comments\\ndata_train[data_train.is_fake == 1].loc[:, 'nb_words'] = nb_words_fakes\\ndata_train[data_train.is_fake == 0].loc[:, 'nb_words'] = nb_words_trues\\ndata_train[data_train.is_fake == 1].loc[:, 'nb_unique_words'] = nb_unique_words_fakes\\ndata_train[data_train.is_fake == 0].loc[:, 'nb_unique_words'] = nb_unique_words_trues\\ndata_train[data_train.is_fake == 1].loc[:, 'freq_words'] = freq_words_fakes\\ndata_train[data_train.is_fake == 0].loc[:, 'freq_words'] = freq_words_trues\\n\""
      ]
     },
     "execution_count": 33,
     "metadata": {},
     "output_type": "execute_result"
    }
   ],
   "source": [
    "'''\n",
    "data_train[data_train.is_fake == 1].loc[:, 'lens_comments'] = lens_fakes_comments\n",
    "data_train[data_train.is_fake == 1].loc[:, 'nb_words'] = nb_words_fakes\n",
    "data_train[data_train.is_fake == 0].loc[:, 'nb_words'] = nb_words_trues\n",
    "data_train[data_train.is_fake == 1].loc[:, 'nb_unique_words'] = nb_unique_words_fakes\n",
    "data_train[data_train.is_fake == 0].loc[:, 'nb_unique_words'] = nb_unique_words_trues\n",
    "data_train[data_train.is_fake == 1].loc[:, 'freq_words'] = freq_words_fakes\n",
    "data_train[data_train.is_fake == 0].loc[:, 'freq_words'] = freq_words_trues\n",
    "'''"
   ]
  },
  {
   "cell_type": "code",
   "execution_count": 32,
   "metadata": {},
   "outputs": [],
   "source": [
    "data_train.loc[data_train.is_fake == 1, 'lens_comments'] = lens_fakes_comments"
   ]
  },
  {
   "cell_type": "code",
   "execution_count": 34,
   "metadata": {},
   "outputs": [],
   "source": [
    "data_train.loc[data_train.is_fake == 0, 'lens_comments'] = lens_trues_comments"
   ]
  },
  {
   "cell_type": "code",
   "execution_count": 35,
   "metadata": {},
   "outputs": [],
   "source": [
    "data_train.loc[data_train.is_fake == 1, 'nb_words'] = nb_words_fakes\n",
    "data_train.loc[data_train.is_fake == 0, 'nb_words'] = nb_words_trues\n",
    "data_train.loc[data_train.is_fake == 1, 'nb_unique_words'] = nb_unique_words_fakes\n",
    "data_train.loc[data_train.is_fake == 0, 'nb_unique_words'] = nb_unique_words_trues\n",
    "data_train.loc[data_train.is_fake == 1, 'freq_words'] = freq_words_fakes\n",
    "data_train.loc[data_train.is_fake == 0, 'freq_words'] = freq_words_trues"
   ]
  },
  {
   "cell_type": "code",
   "execution_count": 36,
   "metadata": {},
   "outputs": [
    {
     "data": {
      "text/html": [
       "<div>\n",
       "<style scoped>\n",
       "    .dataframe tbody tr th:only-of-type {\n",
       "        vertical-align: middle;\n",
       "    }\n",
       "\n",
       "    .dataframe tbody tr th {\n",
       "        vertical-align: top;\n",
       "    }\n",
       "\n",
       "    .dataframe thead th {\n",
       "        text-align: right;\n",
       "    }\n",
       "</style>\n",
       "<table border=\"1\" class=\"dataframe\">\n",
       "  <thead>\n",
       "    <tr style=\"text-align: right;\">\n",
       "      <th></th>\n",
       "      <th>comment</th>\n",
       "      <th>comment_id</th>\n",
       "      <th>company_id</th>\n",
       "      <th>date_created</th>\n",
       "      <th>product_id</th>\n",
       "      <th>rating</th>\n",
       "      <th>user_agent</th>\n",
       "      <th>user_date_created</th>\n",
       "      <th>user_id</th>\n",
       "      <th>user_ip</th>\n",
       "      <th>is_fake</th>\n",
       "      <th>lens_comments</th>\n",
       "      <th>nb_words</th>\n",
       "      <th>nb_unique_words</th>\n",
       "      <th>freq_words</th>\n",
       "    </tr>\n",
       "  </thead>\n",
       "  <tbody>\n",
       "    <tr>\n",
       "      <th>0</th>\n",
       "      <td>компания не выполнила заказ без  обьяснения пр...</td>\n",
       "      <td>1</td>\n",
       "      <td>2169053</td>\n",
       "      <td>2014-10-23 20:26:44</td>\n",
       "      <td>6.0</td>\n",
       "      <td>1</td>\n",
       "      <td>Mozilla/5.0 (Windows NT 6.1) AppleWebKit/537.3...</td>\n",
       "      <td>2010-02-03 21:03:22</td>\n",
       "      <td>91933</td>\n",
       "      <td>178.92.70.220</td>\n",
       "      <td>0</td>\n",
       "      <td>51</td>\n",
       "      <td>7</td>\n",
       "      <td>7</td>\n",
       "      <td>1.000000</td>\n",
       "    </tr>\n",
       "    <tr>\n",
       "      <th>1</th>\n",
       "      <td>Впервые встретился такой професиональный, отве...</td>\n",
       "      <td>2</td>\n",
       "      <td>709306</td>\n",
       "      <td>2016-12-10 08:38:27</td>\n",
       "      <td>2.0</td>\n",
       "      <td>5</td>\n",
       "      <td>Mozilla/5.0 (Linux; Android 5.1.1; C6602 Build...</td>\n",
       "      <td>2010-02-03 21:03:22</td>\n",
       "      <td>91933</td>\n",
       "      <td>94.179.59.162</td>\n",
       "      <td>0</td>\n",
       "      <td>268</td>\n",
       "      <td>38</td>\n",
       "      <td>36</td>\n",
       "      <td>0.947368</td>\n",
       "    </tr>\n",
       "  </tbody>\n",
       "</table>\n",
       "</div>"
      ],
      "text/plain": [
       "                                             comment  comment_id  company_id  \\\n",
       "0  компания не выполнила заказ без  обьяснения пр...           1     2169053   \n",
       "1  Впервые встретился такой професиональный, отве...           2      709306   \n",
       "\n",
       "          date_created  product_id  rating  \\\n",
       "0  2014-10-23 20:26:44         6.0       1   \n",
       "1  2016-12-10 08:38:27         2.0       5   \n",
       "\n",
       "                                          user_agent    user_date_created  \\\n",
       "0  Mozilla/5.0 (Windows NT 6.1) AppleWebKit/537.3...  2010-02-03 21:03:22   \n",
       "1  Mozilla/5.0 (Linux; Android 5.1.1; C6602 Build...  2010-02-03 21:03:22   \n",
       "\n",
       "   user_id        user_ip  is_fake  lens_comments  nb_words  nb_unique_words  \\\n",
       "0    91933  178.92.70.220        0             51         7                7   \n",
       "1    91933  94.179.59.162        0            268        38               36   \n",
       "\n",
       "   freq_words  \n",
       "0    1.000000  \n",
       "1    0.947368  "
      ]
     },
     "execution_count": 36,
     "metadata": {},
     "output_type": "execute_result"
    }
   ],
   "source": [
    "data_train.head(2)"
   ]
  },
  {
   "cell_type": "code",
   "execution_count": 42,
   "metadata": {},
   "outputs": [],
   "source": [
    "data_train.loc[:, 'lens_comments':].to_csv('comment_train.csv', header = True, index = False)"
   ]
  },
  {
   "cell_type": "code",
   "execution_count": 46,
   "metadata": {},
   "outputs": [],
   "source": [
    "lens_comments_test = [len(data_test.comment[i]) for i in range(data_test.shape[0])]"
   ]
  },
  {
   "cell_type": "code",
   "execution_count": 47,
   "metadata": {},
   "outputs": [],
   "source": [
    "nb_words_test = [len(data_test.comment[i].replace('-', ' ').split()) for i in range(data_test.shape[0])]"
   ]
  },
  {
   "cell_type": "code",
   "execution_count": 48,
   "metadata": {},
   "outputs": [],
   "source": [
    "nb_unique_words_test = [len(np.unique(data_test.comment[i].replace('-', ' ').split())) for i in range(data_test.shape[0])]"
   ]
  },
  {
   "cell_type": "code",
   "execution_count": 49,
   "metadata": {},
   "outputs": [
    {
     "name": "stderr",
     "output_type": "stream",
     "text": [
      "c:\\python36\\lib\\site-packages\\ipykernel_launcher.py:1: RuntimeWarning: invalid value encountered in true_divide\n",
      "  \"\"\"Entry point for launching an IPython kernel.\n"
     ]
    }
   ],
   "source": [
    "freq_words_test = list(np.array(nb_unique_words_test) / np.array(nb_words_test))"
   ]
  },
  {
   "cell_type": "code",
   "execution_count": 50,
   "metadata": {},
   "outputs": [],
   "source": [
    "data_test['lens_comment'] = lens_comments_test\n",
    "data_test['nb_words'] = nb_words_test\n",
    "data_test['nb_unique_words'] = nb_unique_words_test\n",
    "data_test['freq_words'] = freq_words_test"
   ]
  },
  {
   "cell_type": "code",
   "execution_count": 51,
   "metadata": {},
   "outputs": [
    {
     "data": {
      "text/html": [
       "<div>\n",
       "<style scoped>\n",
       "    .dataframe tbody tr th:only-of-type {\n",
       "        vertical-align: middle;\n",
       "    }\n",
       "\n",
       "    .dataframe tbody tr th {\n",
       "        vertical-align: top;\n",
       "    }\n",
       "\n",
       "    .dataframe thead th {\n",
       "        text-align: right;\n",
       "    }\n",
       "</style>\n",
       "<table border=\"1\" class=\"dataframe\">\n",
       "  <thead>\n",
       "    <tr style=\"text-align: right;\">\n",
       "      <th></th>\n",
       "      <th>comment</th>\n",
       "      <th>comment_id</th>\n",
       "      <th>company_id</th>\n",
       "      <th>date_created</th>\n",
       "      <th>product_id</th>\n",
       "      <th>rating</th>\n",
       "      <th>user_agent</th>\n",
       "      <th>user_date_created</th>\n",
       "      <th>user_id</th>\n",
       "      <th>user_ip</th>\n",
       "      <th>lens_comment</th>\n",
       "      <th>nb_words</th>\n",
       "      <th>nb_unique_words</th>\n",
       "      <th>freq_words</th>\n",
       "    </tr>\n",
       "  </thead>\n",
       "  <tbody>\n",
       "    <tr>\n",
       "      <th>0</th>\n",
       "      <td>спасибо все отлично, качество как на картинке,...</td>\n",
       "      <td>1655822</td>\n",
       "      <td>2214161</td>\n",
       "      <td>2018-03-19 21:36:07</td>\n",
       "      <td>1301549.0</td>\n",
       "      <td>5</td>\n",
       "      <td>NaN</td>\n",
       "      <td>2017-11-01 00:00:46</td>\n",
       "      <td>12969242</td>\n",
       "      <td>NaN</td>\n",
       "      <td>71</td>\n",
       "      <td>9</td>\n",
       "      <td>9</td>\n",
       "      <td>1.000000</td>\n",
       "    </tr>\n",
       "    <tr>\n",
       "      <th>1</th>\n",
       "      <td>Заказывала шоколад Риттер Спорт 10 шт. К сожал...</td>\n",
       "      <td>1655823</td>\n",
       "      <td>2333068</td>\n",
       "      <td>2017-12-10 13:46:49</td>\n",
       "      <td>699700.0</td>\n",
       "      <td>5</td>\n",
       "      <td>Mozilla/5.0 (Windows NT 6.1) AppleWebKit/537.3...</td>\n",
       "      <td>2017-11-01 00:02:19</td>\n",
       "      <td>12969248</td>\n",
       "      <td>91.90.13.210</td>\n",
       "      <td>290</td>\n",
       "      <td>44</td>\n",
       "      <td>43</td>\n",
       "      <td>0.977273</td>\n",
       "    </tr>\n",
       "    <tr>\n",
       "      <th>2</th>\n",
       "      <td>Быстро отзвонились, охотно отвечали на все воп...</td>\n",
       "      <td>1655824</td>\n",
       "      <td>752692</td>\n",
       "      <td>2017-11-01 00:07:38</td>\n",
       "      <td>NaN</td>\n",
       "      <td>5</td>\n",
       "      <td>Mozilla/5.0 (Windows NT 6.1; rv:38.0) Gecko/20...</td>\n",
       "      <td>2017-11-01 00:02:44</td>\n",
       "      <td>12969251</td>\n",
       "      <td>93.115.95.204</td>\n",
       "      <td>130</td>\n",
       "      <td>18</td>\n",
       "      <td>18</td>\n",
       "      <td>1.000000</td>\n",
       "    </tr>\n",
       "    <tr>\n",
       "      <th>3</th>\n",
       "      <td>Очень оперативный и внимательный к покупателю ...</td>\n",
       "      <td>1655825</td>\n",
       "      <td>334751</td>\n",
       "      <td>2017-11-20 23:40:01</td>\n",
       "      <td>1279247.0</td>\n",
       "      <td>5</td>\n",
       "      <td>Mozilla/5.0 (Windows NT 6.1; Win64; x64) Apple...</td>\n",
       "      <td>2017-11-01 00:02:44</td>\n",
       "      <td>12969251</td>\n",
       "      <td>37.28.153.28</td>\n",
       "      <td>202</td>\n",
       "      <td>25</td>\n",
       "      <td>24</td>\n",
       "      <td>0.960000</td>\n",
       "    </tr>\n",
       "    <tr>\n",
       "      <th>4</th>\n",
       "      <td>Все прошло очень оперативно! Заказ привезли в ...</td>\n",
       "      <td>1655826</td>\n",
       "      <td>2263650</td>\n",
       "      <td>2017-11-20 23:39:51</td>\n",
       "      <td>1225545.0</td>\n",
       "      <td>5</td>\n",
       "      <td>Mozilla/5.0 (Windows NT 6.1; Win64; x64) Apple...</td>\n",
       "      <td>2017-11-01 00:02:44</td>\n",
       "      <td>12969251</td>\n",
       "      <td>37.28.153.28</td>\n",
       "      <td>70</td>\n",
       "      <td>12</td>\n",
       "      <td>12</td>\n",
       "      <td>1.000000</td>\n",
       "    </tr>\n",
       "  </tbody>\n",
       "</table>\n",
       "</div>"
      ],
      "text/plain": [
       "                                             comment  comment_id  company_id  \\\n",
       "0  спасибо все отлично, качество как на картинке,...     1655822     2214161   \n",
       "1  Заказывала шоколад Риттер Спорт 10 шт. К сожал...     1655823     2333068   \n",
       "2  Быстро отзвонились, охотно отвечали на все воп...     1655824      752692   \n",
       "3  Очень оперативный и внимательный к покупателю ...     1655825      334751   \n",
       "4  Все прошло очень оперативно! Заказ привезли в ...     1655826     2263650   \n",
       "\n",
       "          date_created  product_id  rating  \\\n",
       "0  2018-03-19 21:36:07   1301549.0       5   \n",
       "1  2017-12-10 13:46:49    699700.0       5   \n",
       "2  2017-11-01 00:07:38         NaN       5   \n",
       "3  2017-11-20 23:40:01   1279247.0       5   \n",
       "4  2017-11-20 23:39:51   1225545.0       5   \n",
       "\n",
       "                                          user_agent    user_date_created  \\\n",
       "0                                                NaN  2017-11-01 00:00:46   \n",
       "1  Mozilla/5.0 (Windows NT 6.1) AppleWebKit/537.3...  2017-11-01 00:02:19   \n",
       "2  Mozilla/5.0 (Windows NT 6.1; rv:38.0) Gecko/20...  2017-11-01 00:02:44   \n",
       "3  Mozilla/5.0 (Windows NT 6.1; Win64; x64) Apple...  2017-11-01 00:02:44   \n",
       "4  Mozilla/5.0 (Windows NT 6.1; Win64; x64) Apple...  2017-11-01 00:02:44   \n",
       "\n",
       "    user_id        user_ip  lens_comment  nb_words  nb_unique_words  \\\n",
       "0  12969242            NaN            71         9                9   \n",
       "1  12969248   91.90.13.210           290        44               43   \n",
       "2  12969251  93.115.95.204           130        18               18   \n",
       "3  12969251   37.28.153.28           202        25               24   \n",
       "4  12969251   37.28.153.28            70        12               12   \n",
       "\n",
       "   freq_words  \n",
       "0    1.000000  \n",
       "1    0.977273  \n",
       "2    1.000000  \n",
       "3    0.960000  \n",
       "4    1.000000  "
      ]
     },
     "execution_count": 51,
     "metadata": {},
     "output_type": "execute_result"
    }
   ],
   "source": [
    "data_test.head()"
   ]
  },
  {
   "cell_type": "code",
   "execution_count": 52,
   "metadata": {},
   "outputs": [],
   "source": [
    "data_test.loc[:, 'lens_comment':].to_csv('comment_test.csv', header = True, index = False)"
   ]
  },
  {
   "cell_type": "code",
   "execution_count": null,
   "metadata": {},
   "outputs": [],
   "source": []
  }
 ],
 "metadata": {
  "kernelspec": {
   "display_name": "Python 3",
   "language": "python",
   "name": "python3"
  },
  "language_info": {
   "codemirror_mode": {
    "name": "ipython",
    "version": 3
   },
   "file_extension": ".py",
   "mimetype": "text/x-python",
   "name": "python",
   "nbconvert_exporter": "python",
   "pygments_lexer": "ipython3",
   "version": "3.6.4"
  }
 },
 "nbformat": 4,
 "nbformat_minor": 1
}
